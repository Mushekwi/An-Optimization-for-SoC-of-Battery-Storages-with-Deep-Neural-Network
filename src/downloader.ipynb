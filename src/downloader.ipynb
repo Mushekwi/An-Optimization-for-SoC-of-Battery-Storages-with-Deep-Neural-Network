{
 "cells": [
  {
   "cell_type": "code",
   "execution_count": 3,
   "metadata": {
    "collapsed": true
   },
   "outputs": [],
   "source": [
    "import pandas as pd\n",
    "from urllib import request"
   ]
  },
  {
   "cell_type": "code",
   "execution_count": 6,
   "metadata": {
    "collapsed": true
   },
   "outputs": [],
   "source": [
    "URL = \"https://api.transnetbw.de/regulationZone/csv?language=en&date={}-{}\""
   ]
  },
  {
   "cell_type": "code",
   "execution_count": 8,
   "metadata": {
    "scrolled": true
   },
   "outputs": [
    {
     "name": "stdout",
     "output_type": "stream",
     "text": [
      "2010-01\n",
      "2010-02\n",
      "2010-03\n",
      "2010-04\n",
      "2010-05\n",
      "2010-06\n",
      "2010-07\n",
      "2010-08\n",
      "2010-09\n",
      "2010-10\n",
      "2010-11\n",
      "2010-12\n",
      "2011-01\n",
      "2011-02\n",
      "2011-03\n",
      "2011-04\n",
      "2011-05\n",
      "2011-06\n",
      "2011-07\n",
      "2011-08\n",
      "2011-09\n",
      "2011-10\n",
      "2011-11\n",
      "2011-12\n",
      "2012-01\n",
      "2012-02\n",
      "2012-03\n",
      "2012-04\n",
      "2012-05\n",
      "2012-06\n",
      "2012-07\n",
      "2012-08\n",
      "2012-09\n",
      "2012-10\n",
      "2012-11\n",
      "2012-12\n",
      "2013-01\n",
      "2013-02\n",
      "2013-03\n",
      "2013-04\n",
      "2013-05\n",
      "2013-06\n",
      "2013-07\n",
      "2013-08\n",
      "2013-09\n",
      "2013-10\n",
      "2013-11\n",
      "2013-12\n",
      "2014-01\n",
      "2014-02\n",
      "2014-03\n",
      "2014-04\n",
      "2014-05\n",
      "2014-06\n",
      "2014-07\n",
      "2014-08\n",
      "2014-09\n",
      "2014-10\n",
      "2014-11\n",
      "2014-12\n"
     ]
    }
   ],
   "source": [
    "months = ['01','02','03','04','05','06','07','08','09','10','11','12']\n",
    "for year in range(2010,2015):\n",
    "    for month in months:\n",
    "        print('{}-{}'.format(year,month))\n",
    "        full_path = URL.format(year,month)\n",
    "        request.urlretrieve(URL.format(year,month), full_path.split('=')[-1]+'.csv')"
   ]
  },
  {
   "cell_type": "code",
   "execution_count": 1,
   "metadata": {},
   "outputs": [
    {
     "data": {
      "text/plain": [
       "'https://api.transnetbw.de/regulationZone/csv?language=en&date=2010-07'"
      ]
     },
     "execution_count": 1,
     "metadata": {},
     "output_type": "execute_result"
    }
   ],
   "source": []
  },
  {
   "cell_type": "code",
   "execution_count": null,
   "metadata": {
    "collapsed": true
   },
   "outputs": [],
   "source": []
  }
 ],
 "metadata": {
  "kernelspec": {
   "display_name": "Python 3",
   "language": "python",
   "name": "python3"
  },
  "language_info": {
   "codemirror_mode": {
    "name": "ipython",
    "version": 3
   },
   "file_extension": ".py",
   "mimetype": "text/x-python",
   "name": "python",
   "nbconvert_exporter": "python",
   "pygments_lexer": "ipython3",
   "version": "3.6.3"
  }
 },
 "nbformat": 4,
 "nbformat_minor": 2
}
