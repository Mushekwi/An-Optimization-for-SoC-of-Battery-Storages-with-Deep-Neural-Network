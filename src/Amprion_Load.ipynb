{
 "cells": [
  {
   "cell_type": "markdown",
   "metadata": {},
   "source": [
    "# Amprion Load"
   ]
  },
  {
   "cell_type": "code",
   "execution_count": 1,
   "metadata": {
    "collapsed": true
   },
   "outputs": [],
   "source": [
    "import pandas as pd\n",
    "import numpy as np\n",
    "import os"
   ]
  },
  {
   "cell_type": "code",
   "execution_count": 2,
   "metadata": {
    "collapsed": true
   },
   "outputs": [],
   "source": [
    "filepath = \"../raw_data/load_data/Amprion Load\"\n",
    "filenames = os.listdir(filepath)\n",
    "oldformat_filenames = filenames[0]\n",
    "newformat_filenames = filenames[1:]\n"
   ]
  },
  {
   "cell_type": "code",
   "execution_count": 3,
   "metadata": {},
   "outputs": [
    {
     "name": "stdout",
     "output_type": "stream",
     "text": [
      "Extracting oldformat files...\n",
      "Extracting newformat files...\n",
      "Processing 2015.csv\n",
      "Processing pd.to_datetime('date')...\n",
      "Processing pd.to_datetime('from')...\n",
      "Processing pd.to_datetime('to')...\n",
      "Processing 2016.csv\n",
      "Processing pd.to_datetime('date')...\n",
      "Processing pd.to_datetime('from')...\n",
      "Processing pd.to_datetime('to')...\n",
      "Processing 2017.csv\n",
      "Processing pd.to_datetime('date')...\n",
      "Processing pd.to_datetime('from')...\n",
      "Processing pd.to_datetime('to')...\n"
     ]
    }
   ],
   "source": [
    "def extract_one_year(filename, old_format=True):\n",
    "    if old_format:\n",
    "        df = pd.read_csv(filename, sep=';')\n",
    "        df.columns = ['date', 'time', 'forecast', 'actual']\n",
    "        #split time column\n",
    "        df['from'] = df['time'].apply(lambda x: x.split(' - ')[0]) \n",
    "        df['to'] = df['time'].apply(lambda x: x.split(' - ')[1])\n",
    "        # add date to from and to column\n",
    "        df['from'] = df.apply(lambda row: pd.to_datetime(row['date'] + '-' + row['from'], format='%d.%m.%Y-%H:%M'),axis=1)\n",
    "        df['to']   = df.apply(lambda row: pd.to_datetime(row['date'] + '-' + row['to'], format='%d.%m.%Y-%H:%M'),axis=1)\n",
    "        # change str date to datetime date\n",
    "        df['date'] = df['date'].apply(lambda x: pd.to_datetime(x, format='%d.%m.%Y'))\n",
    "\n",
    "        # drop unnecessary cols\n",
    "        df.drop(['time'], axis=1, inplace=True)\n",
    "\n",
    "\n",
    "    else:\n",
    "        df = pd.read_csv(filename)\n",
    "        df.columns = ['from-to', 'forecast', 'actual']\n",
    "        df['from'], df['to'] = df['from-to'].str.split(' - ').str\n",
    "        df['date'] = df['from-to'].str.split(' ').str[0]\n",
    "        \n",
    "        # change str date to datetime date\n",
    "        # change dtype to datetime\n",
    "        print(\"Processing pd.to_datetime('date')...\")\n",
    "        df['date'] = df['date'].apply(lambda x: pd.to_datetime(x, format='%d.%m.%Y'))\n",
    "        print(\"Processing pd.to_datetime('from')...\")\n",
    "        df['from'] = df['from'].apply(lambda x: pd.to_datetime(x, format='%d.%m.%Y %H:%M'))\n",
    "        print(\"Processing pd.to_datetime('to')...\")\n",
    "        df['to'] = df['to'].apply(lambda x: pd.to_datetime(x, format='%d.%m.%Y %H:%M'))\n",
    "        \n",
    "        #drop unnecessary cols\n",
    "        df.drop(['from-to'], axis=1, inplace=True)\n",
    "        \n",
    "    # reorder cols\n",
    "    df = df[['date', 'from', 'to', 'actual', 'forecast']]\n",
    "    return df\n",
    "\n",
    "\n",
    "print('Extracting oldformat files...')\n",
    "oldformat_df = extract_one_year(os.path.join(filepath,oldformat_filenames), old_format=True)\n",
    "\n",
    "print('Extracting newformat files...')\n",
    "newformat_df = pd.DataFrame()\n",
    "for filename in newformat_filenames:\n",
    "    print('Processing {}'.format(filename))\n",
    "    newformat_df = newformat_df.append(extract_one_year(os.path.join(filepath,filename), old_format=False))\n",
    "\n",
    "# Merge old and new\n",
    "oldformat_df = oldformat_df.append(newformat_df)\n",
    "oldformat_df.reset_index(drop=True,inplace=True)\n",
    "\n",
    "oldformat_df.to_csv('../input/Load_Amprion_2010-2017_cleaned.csv', index=None)\n",
    "\n",
    "    "
   ]
  },
  {
   "cell_type": "code",
   "execution_count": 4,
   "metadata": {},
   "outputs": [
    {
     "data": {
      "text/html": [
       "<div>\n",
       "<style>\n",
       "    .dataframe thead tr:only-child th {\n",
       "        text-align: right;\n",
       "    }\n",
       "\n",
       "    .dataframe thead th {\n",
       "        text-align: left;\n",
       "    }\n",
       "\n",
       "    .dataframe tbody tr th {\n",
       "        vertical-align: top;\n",
       "    }\n",
       "</style>\n",
       "<table border=\"1\" class=\"dataframe\">\n",
       "  <thead>\n",
       "    <tr style=\"text-align: right;\">\n",
       "      <th></th>\n",
       "      <th>date</th>\n",
       "      <th>from</th>\n",
       "      <th>to</th>\n",
       "      <th>actual</th>\n",
       "      <th>forecast</th>\n",
       "    </tr>\n",
       "  </thead>\n",
       "  <tbody>\n",
       "    <tr>\n",
       "      <th>0</th>\n",
       "      <td>2010-01-01 00:00:00</td>\n",
       "      <td>2010-01-01</td>\n",
       "      <td>2010-01-01 00:15:00</td>\n",
       "      <td>16990.0</td>\n",
       "      <td>19211.0</td>\n",
       "    </tr>\n",
       "  </tbody>\n",
       "</table>\n",
       "</div>"
      ],
      "text/plain": [
       "                  date       from                   to   actual  forecast\n",
       "0  2010-01-01 00:00:00 2010-01-01  2010-01-01 00:15:00  16990.0   19211.0"
      ]
     },
     "execution_count": 4,
     "metadata": {},
     "output_type": "execute_result"
    }
   ],
   "source": [
    "h = pd.read_csv('../input/Load_Amprion_2010-2017_cleaned.csv')\n",
    "h['from'] = h['from'].apply(lambda x: pd.to_datetime(x))\n",
    "h.loc[(h['from'].diff(1) != pd.Timedelta(minutes=15))]"
   ]
  },
  {
   "cell_type": "code",
   "execution_count": null,
   "metadata": {
    "collapsed": true
   },
   "outputs": [],
   "source": []
  }
 ],
 "metadata": {
  "kernelspec": {
   "display_name": "Python 3",
   "language": "python",
   "name": "python3"
  },
  "language_info": {
   "codemirror_mode": {
    "name": "ipython",
    "version": 3
   },
   "file_extension": ".py",
   "mimetype": "text/x-python",
   "name": "python",
   "nbconvert_exporter": "python",
   "pygments_lexer": "ipython3",
   "version": "3.6.1"
  }
 },
 "nbformat": 4,
 "nbformat_minor": 2
}
